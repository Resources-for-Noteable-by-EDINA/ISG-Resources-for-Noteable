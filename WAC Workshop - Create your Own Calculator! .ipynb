{
 "cells": [
  {
   "cell_type": "markdown",
   "id": "ca0706c8",
   "metadata": {},
   "source": [
    "![Noteable.ac.uk Banner](https://github.com/jstix/mr-noteable/blob/master/Banner%20image/1500x500.jfif?raw=true)"
   ]
  },
  {
   "cell_type": "markdown",
   "id": "ed6d2cd4",
   "metadata": {},
   "source": [
    "## Activity: Creating a Simple Calculator in Python\n",
    "\n",
    "### Objective: To create a simple calculator that can perform addition, subtraction, multiplication, and division operations.\n",
    "\n",
    "\n",
    "Step 1: Begin by defining a function for each of the four operations.\n",
    "\n",
    "Example:"
   ]
  },
  {
   "cell_type": "code",
   "execution_count": 2,
   "id": "d169da61",
   "metadata": {},
   "outputs": [],
   "source": [
    "def add(x, y):\n",
    "    return x + y\n",
    "\n",
    "def subtract(x, y):\n",
    "    return x - y\n",
    "\n",
    "def multiply(x, y):\n",
    "    return x * y\n",
    "\n",
    "def divide(x, y):\n",
    "    return x / y\n"
   ]
  },
  {
   "cell_type": "markdown",
   "id": "eb3367ca",
   "metadata": {},
   "source": [
    "Step 2: Ask the user to enter the two numbers and the operation they want to perform.\n",
    "\n",
    "Example:"
   ]
  },
  {
   "cell_type": "code",
   "execution_count": 6,
   "id": "0e59a70e",
   "metadata": {},
   "outputs": [
    {
     "name": "stdout",
     "output_type": "stream",
     "text": [
      "Enter the first number: 3\n",
      "Enter the second number: 4\n",
      "Enter the operation (+, -, *, /): /\n"
     ]
    }
   ],
   "source": [
    "num1 = int(input(\"Enter the first number: \"))\n",
    "num2 = int(input(\"Enter the second number: \"))\n",
    "operation = input(\"Enter the operation (+, -, *, /): \")\n"
   ]
  },
  {
   "cell_type": "markdown",
   "id": "f4b40d44",
   "metadata": {},
   "source": [
    "Step 4: Use if-elif statements to check which operation the user wants to perform and call the appropriate function.\n",
    "\n",
    "Example:"
   ]
  },
  {
   "cell_type": "code",
   "execution_count": 7,
   "id": "59031711",
   "metadata": {},
   "outputs": [],
   "source": [
    "if operation == '+':\n",
    "    result = add(num1, num2)\n",
    "elif operation == '-':\n",
    "    result = subtract(num1, num2)\n",
    "elif operation == '*':\n",
    "    result = multiply(num1, num2)\n",
    "elif operation == '/':\n",
    "    result = divide(num1, num2)\n",
    "else:\n",
    "    print(\"Invalid operation selected.\")\n"
   ]
  },
  {
   "cell_type": "markdown",
   "id": "80dadb7b",
   "metadata": {},
   "source": [
    "Step 5: Print the result.\n",
    "\n",
    "Example:"
   ]
  },
  {
   "cell_type": "code",
   "execution_count": 8,
   "id": "0938ee03",
   "metadata": {},
   "outputs": [
    {
     "name": "stdout",
     "output_type": "stream",
     "text": [
      "The result is: 0.75\n"
     ]
    }
   ],
   "source": [
    "print(\"The result is:\", result)\n"
   ]
  },
  {
   "cell_type": "markdown",
   "id": "cb7a4c8a",
   "metadata": {},
   "source": [
    "Step 6: Run the code and test it with different numbers and operations.\n",
    "\n",
    "Congratulations! You have now created a simple calculator in Python.\n",
    "\n",
    "Additional activity:\n",
    "\n",
    "You can modify the code to add more functionality, such as taking the operation symbol as an argument when calling the function, or using a while loop to allow the user to perform multiple operations without restarting the program"
   ]
  },
  {
   "cell_type": "code",
   "execution_count": null,
   "id": "7e3e0b0c",
   "metadata": {},
   "outputs": [],
   "source": []
  }
 ],
 "metadata": {
  "kernelspec": {
   "display_name": "Python 3 (ipykernel)",
   "language": "python",
   "name": "python3"
  },
  "language_info": {
   "codemirror_mode": {
    "name": "ipython",
    "version": 3
   },
   "file_extension": ".py",
   "mimetype": "text/x-python",
   "name": "python",
   "nbconvert_exporter": "python",
   "pygments_lexer": "ipython3",
   "version": "3.9.12"
  }
 },
 "nbformat": 4,
 "nbformat_minor": 5
}
