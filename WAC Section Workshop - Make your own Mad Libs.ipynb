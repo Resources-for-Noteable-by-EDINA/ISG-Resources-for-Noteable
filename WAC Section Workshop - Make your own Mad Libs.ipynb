{
 "cells": [
  {
   "cell_type": "markdown",
   "id": "1001ce30",
   "metadata": {},
   "source": [
    "![Noteable.ac.uk Banner](https://github.com/jstix/mr-noteable/blob/master/Banner%20image/1500x500.jfif?raw=true)"
   ]
  },
  {
   "cell_type": "markdown",
   "id": "940c96ed",
   "metadata": {},
   "source": [
    "## Activity: Build Your Own Mad Libs Game\n",
    "    \n",
    "    \n",
    "In this activity, we'll build a simple Mad Libs game where users can input their own words to create a silly (but still good!) story. \n",
    "\n",
    "This may seem like a simple activity, but it slices right into the core of what computational thinking is: \n",
    "*a problem-solving technique that involves breaking down complex problems into smaller, more manageable parts and using algorithmic thinking to solve them using computers or other digital devices.*\n",
    "By combining mad libs with Python, you are combining the everyday English language you are used to with the recipe-building that defines computer programming, giving meaning to the overall outcome by defining what your ingredients, or variables, are. \n",
    "\n",
    "\n",
    "### Introduction to terms and learning outcomes\n",
    "\n",
    "You will experience a few... challenges in this workbook that will challenge you to think more like a computer does, rather than your intuition does. Computers work according to the rules they are bound by, and cannot find creative solutions to problems (much) yet. \n",
    "\n",
    "Through the next steps of the activity, you will see a story template being defined. \n",
    "\n",
    "The next step is adding your user input, and here you will come across your first challenge. Don't worry though, there is assistance available! \n",
    "\n",
    "As you go along, you will notice the curly braces {} are used in Python to define a dictionary. A dictionary is a data structure that maps one value to another - kind of like how an English dictionary maps a word to its definition. In this case, we are mapping the mad libs words into the story using this dictionary. \n",
    "\n",
    "\n",
    "### Instructions: \n",
    "\n",
    "Step 1: Set Up the Story Template. First, we need to create a story template with placeholders for the user's input. Here's an example:\n",
    "        "
   ]
  },
  {
   "cell_type": "code",
   "execution_count": null,
   "id": "1baf0243",
   "metadata": {},
   "outputs": [],
   "source": [
    "story_template = \"Once upon a time, there was a {animal} named {name}. {name} was very {adjective} and loved to {verb} all day long. One day, {name} decided to {activity} in the {place} and ended up finding a {color} {object}. From that day on, {name} always carried the {object} with them wherever they went.\"\n",
    "\n",
    "\n"
   ]
  },
  {
   "cell_type": "markdown",
   "id": "76a08ea0",
   "metadata": {},
   "source": [
    "Step 2: Add your user input! \n",
    "\n",
    "Next, you can input words to fill in the placeholders in the story. We can use the input() function to prompt the user and store their input in variables:"
   ]
  },
  {
   "cell_type": "code",
   "execution_count": null,
   "id": "b21ad435",
   "metadata": {},
   "outputs": [],
   "source": [
    "# This is an example of where coding can feel complicated, confusing and downright evil. If you run this cell, what happens? \n",
    "\n",
    "# After you see a text box appear underneath the code cell, and you want to go to the next item to fill in for the mad libs, how do you do it? \n",
    "\n",
    "# You'll realise, after some experimenting, you have to use the Enter button on your keyboard! This feel different to running code cells as you have been doing so far, as you are executing code within the cell. \n",
    "# Note you can use Control+Enter on your keyboard to run a cell. \n",
    "\n",
    "\n",
    "animal = input(\"Enter an animal: \")\n",
    "name = input(\"Enter a name:  \")\n",
    "adjective = input(\"Enter an adjective:  \")\n",
    "verb = input(\"Enter a verb: \")\n",
    "activity = input(\"Enter an activity:  \")\n",
    "place = input(\"Enter a place: \")\n",
    "color = input(\"Enter a color: \")\n",
    "object = input(\"Enter an object: \")\n"
   ]
  },
  {
   "cell_type": "markdown",
   "id": "fb2dba26",
   "metadata": {},
   "source": [
    "Step 3: Fill in the Story Template\n",
    "\n",
    "\n",
    "Now that we have the user's input, we can fill in the placeholders in the story template using string formatting. This is the process of inserting a custom string or variable in predefined text."
   ]
  },
  {
   "cell_type": "code",
   "execution_count": null,
   "id": "f0cd8d0b",
   "metadata": {},
   "outputs": [],
   "source": [
    "story = story_template.format(animal=animal, name=name, adjective=adjective, verb=verb, activity=activity, place=place, color=color, object=object)\n"
   ]
  },
  {
   "cell_type": "markdown",
   "id": "91e003b3",
   "metadata": {},
   "source": [
    "Step 4: Display the Story\n",
    "Finally, we can print the completed story for the user to read:"
   ]
  },
  {
   "cell_type": "code",
   "execution_count": null,
   "id": "9f5c1c12",
   "metadata": {},
   "outputs": [],
   "source": [
    "print(story)\n"
   ]
  }
 ],
 "metadata": {
  "kernelspec": {
   "display_name": "Python 3 (ipykernel)",
   "language": "python",
   "name": "python3"
  },
  "language_info": {
   "codemirror_mode": {
    "name": "ipython",
    "version": 3
   },
   "file_extension": ".py",
   "mimetype": "text/x-python",
   "name": "python",
   "nbconvert_exporter": "python",
   "pygments_lexer": "ipython3",
   "version": "3.9.12"
  }
 },
 "nbformat": 4,
 "nbformat_minor": 5
}
