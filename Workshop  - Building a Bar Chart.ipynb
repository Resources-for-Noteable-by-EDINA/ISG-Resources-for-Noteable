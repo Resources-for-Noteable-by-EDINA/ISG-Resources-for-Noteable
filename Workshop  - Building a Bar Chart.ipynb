{
 "cells": [
  {
   "cell_type": "markdown",
   "id": "9eda57f9",
   "metadata": {},
   "source": [
    "![Noteable.ac.uk Banner](https://github.com/jstix/mr-noteable/blob/master/Banner%20image/1500x500.jfif?raw=true)"
   ]
  },
  {
   "cell_type": "markdown",
   "id": "93587464",
   "metadata": {},
   "source": [
    "Matplotlib may be used to create bar charts. You might like the Matplotlib gallery.\n",
    "\n",
    "Matplotlib is a python library for visualizing data. You can use it to create bar charts in python. Installation of matplot is on pypi, so just use pip: pip install matplotlib\n",
    "\n",
    "Bar chart code\n",
    "A bar chart shows values as vertical bars, where the position of each bar indicates the value it represents. matplot aims to make it as easy as possible to turn data into Bar Charts.\n",
    "\n",
    "A bar chart in matplotlib made from python code. The code below creates a bar chart"
   ]
  },
  {
   "cell_type": "markdown",
   "id": "af89fe31",
   "metadata": {},
   "source": [
    "#### Creating a bar graph\n",
    "The bar graph is built after installing the package by running the set of codes below."
   ]
  },
  {
   "cell_type": "code",
   "execution_count": null,
   "id": "42d980a5",
   "metadata": {},
   "outputs": [],
   "source": [
    "import matplotlib.pyplot as plt; plt.rcdefaults()\n",
    "import numpy as np\n",
    "import matplotlib.pyplot as plt\n",
    "\n",
    "objects = ('Python', 'C++', 'Java', 'Perl', 'Scala', 'Lisp')\n",
    "y_pos = np.arange(len(objects))\n",
    "performance = [10,8,6,4,2,1]\n",
    "\n",
    "plt.bar(y_pos, performance, align='center', alpha=0.5)\n",
    "plt.xticks(y_pos, objects)\n",
    "plt.ylabel('Usage')\n",
    "plt.title('Programming language usage')\n",
    "\n",
    "plt.show()"
   ]
  },
  {
   "cell_type": "markdown",
   "id": "6ce4b9e8",
   "metadata": {},
   "source": [
    "Python Bar Chart\n",
    "Matplotlib charts can be horizontal, to create a horizontal bar chart:"
   ]
  },
  {
   "cell_type": "code",
   "execution_count": null,
   "id": "5afc5866",
   "metadata": {},
   "outputs": [],
   "source": [
    "import matplotlib.pyplot as plt; plt.rcdefaults()\n",
    "import numpy as np\n",
    "import matplotlib.pyplot as plt\n",
    "\n",
    "objects = ('Python', 'C++', 'Java', 'Perl', 'Scala', 'Lisp')\n",
    "y_pos = np.arange(len(objects))\n",
    "performance = [10,8,6,4,2,1]\n",
    "\n",
    "plt.barh(y_pos, performance, align='center', alpha=0.5)\n",
    "plt.yticks(y_pos, objects)\n",
    "plt.xlabel('Usage')\n",
    "plt.title('Programming language usage')\n",
    "\n",
    "plt.show()"
   ]
  },
  {
   "cell_type": "markdown",
   "id": "33ccb15c",
   "metadata": {},
   "source": [
    "Bar chart comparison\n",
    "You can compare two data series using this Matplotlib code:"
   ]
  },
  {
   "cell_type": "code",
   "execution_count": null,
   "id": "650d2ed5",
   "metadata": {},
   "outputs": [],
   "source": [
    "import numpy as np\n",
    "import matplotlib.pyplot as plt\n",
    "\n",
    "# data to plot\n",
    "n_groups = 4\n",
    "means_frank = (90, 55, 40, 65)\n",
    "means_guido = (85, 62, 54, 20)\n",
    "\n",
    "# create plot\n",
    "fig, ax = plt.subplots()\n",
    "index = np.arange(n_groups)\n",
    "bar_width = 0.35\n",
    "opacity = 0.8\n",
    "\n",
    "rects1 = plt.bar(index, means_frank, bar_width,\n",
    "alpha=opacity,\n",
    "color='b',\n",
    "label='Frank')\n",
    "\n",
    "rects2 = plt.bar(index + bar_width, means_guido, bar_width,\n",
    "alpha=opacity,\n",
    "color='g',\n",
    "label='Guido')\n",
    "\n",
    "plt.xlabel('Person')\n",
    "plt.ylabel('Scores')\n",
    "plt.title('Scores by person')\n",
    "plt.xticks(index + bar_width, ('A', 'B', 'C', 'D'))\n",
    "plt.legend()\n",
    "\n",
    "plt.tight_layout()\n",
    "plt.show()"
   ]
  },
  {
   "cell_type": "markdown",
   "id": "eef40a23",
   "metadata": {},
   "source": [
    "Stacked bar chart\n",
    "The example below creates a stacked bar chart with Matplotlib. Stacked bar plots show diffrent groups together."
   ]
  },
  {
   "cell_type": "code",
   "execution_count": null,
   "id": "e844c1f9",
   "metadata": {},
   "outputs": [],
   "source": [
    "# load matplotlib\n",
    "import matplotlib.pyplot as plt\n",
    "\n",
    "# data set\n",
    "x = ['A', 'B', 'C', 'D']\n",
    "y1 = [100, 120, 110, 130]\n",
    "y2 = [120, 125, 115, 125]\n",
    "\n",
    "# plot stacked bar chart \n",
    "plt.bar(x, y1, color='g')\n",
    "plt.bar(x, y2, bottom=y1, color='y')\n",
    "plt.show()"
   ]
  },
  {
   "cell_type": "markdown",
   "id": "70e6ae1c",
   "metadata": {},
   "source": [
    "Interested in bar charts with matplotlib? Go to this website for more information and tutorials: https://datatofish.com/bar-chart-python-matplotlib/"
   ]
  }
 ],
 "metadata": {
  "kernelspec": {
   "display_name": "Python 3 (ipykernel)",
   "language": "python",
   "name": "python3"
  },
  "language_info": {
   "codemirror_mode": {
    "name": "ipython",
    "version": 3
   },
   "file_extension": ".py",
   "mimetype": "text/x-python",
   "name": "python",
   "nbconvert_exporter": "python",
   "pygments_lexer": "ipython3",
   "version": "3.9.12"
  }
 },
 "nbformat": 4,
 "nbformat_minor": 5
}
