{
 "cells": [
  {
   "cell_type": "markdown",
   "id": "1125abab",
   "metadata": {},
   "source": [
    "![Noteable.ac.uk Banner](https://github.com/jstix/mr-noteable/blob/master/Banner%20image/1500x500.jfif?raw=true)"
   ]
  },
  {
   "cell_type": "markdown",
   "id": "42edf809",
   "metadata": {},
   "source": [
    "\"Nevertheless... the turtle moves!\" - Small Gods, by Terry Pratchett\n",
    "\n",
    "This is a Turtle module for the Jupyter Notebook. It's based on code by aspidites, one of two groups at Macewan University that built Turtle as a class assignment (the other was PACattack; I could have based this on either, but I had to pick one)."
   ]
  },
  {
   "cell_type": "code",
   "execution_count": 14,
   "id": "98da90bc",
   "metadata": {},
   "outputs": [
    {
     "data": {
      "application/vnd.jupyter.widget-view+json": {
       "model_id": "cf9eb3974d084fc392943ddc7e3dcdf3",
       "version_major": 2,
       "version_minor": 0
      },
      "text/plain": [
       "Turtle()"
      ]
     },
     "metadata": {},
     "output_type": "display_data"
    }
   ],
   "source": [
    "from mobilechelonian import Turtle\n",
    "t = Turtle()\n",
    "t.speed(5)\n",
    "colours=[\"red\",\"blue\",\"yellow\",\"brown\",\"black\",\"purple\",\"green\"]\n",
    "\n",
    "t.penup(); t.left(90); t.forward(200);t.right(90);t.pendown()\n",
    "for i in range (0,18):\n",
    "    t.pencolor(colours[i%7])\n",
    "    t.right(20)\n",
    "    t.forward(50)\n",
    "\n",
    "t.right(180)\n",
    "t.home()"
   ]
  },
  {
   "cell_type": "markdown",
   "id": "661739a2",
   "metadata": {},
   "source": [
    "Have a play with the code above, change some of the numbers (by small amounts, to be safe!) and see how the size and grid changes. \n",
    "\n",
    "You can also change the colours, orientation and speed. "
   ]
  }
 ],
 "metadata": {
  "kernelspec": {
   "display_name": "Python 3 (ipykernel)",
   "language": "python",
   "name": "python3"
  },
  "language_info": {
   "codemirror_mode": {
    "name": "ipython",
    "version": 3
   },
   "file_extension": ".py",
   "mimetype": "text/x-python",
   "name": "python",
   "nbconvert_exporter": "python",
   "pygments_lexer": "ipython3",
   "version": "3.9.12"
  }
 },
 "nbformat": 4,
 "nbformat_minor": 5
}
