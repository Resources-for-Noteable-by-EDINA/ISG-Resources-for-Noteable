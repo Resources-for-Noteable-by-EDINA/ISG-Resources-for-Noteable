{
 "cells": [
  {
   "cell_type": "markdown",
   "id": "ed4ea5e3",
   "metadata": {},
   "source": [
    "![Noteable.ac.uk Banner](https://github.com/jstix/mr-noteable/blob/master/Banner%20image/1500x500.jfif?raw=true)"
   ]
  },
  {
   "cell_type": "markdown",
   "id": "a2894b9f",
   "metadata": {},
   "source": [
    "Write a Python program that calculates the area of a circle based on the radius entered by the user.\n",
    "\n",
    "Python: Area of a Circle\n",
    "\n",
    "In geometry, the area enclosed by a circle of radius r is πr2. Here the Greek letter π represents a constant, approximately equal to 3.14159, which is equal to the ratio of the circumference of any circle to its diameter.\n",
    "\n",
    "Click on the cell below and then on 'Run' above, and input the radius of a circle in the field that will show. Then, press the Enter button on your keyboard. "
   ]
  },
  {
   "cell_type": "markdown",
   "id": "8618e35c",
   "metadata": {},
   "source": [
    "![imageofcircle](https://www.w3resource.com/w3r_images/python-area-of-a-circle-exercise-4.png)"
   ]
  },
  {
   "cell_type": "code",
   "execution_count": null,
   "id": "c85f7113",
   "metadata": {},
   "outputs": [],
   "source": [
    "from math import pi\n",
    "r = float(input (\"Input the radius of the circle : \"))\n",
    "print (\"The area of the circle with radius \" + str(r) + \" is: \" + str(pi * r**2))"
   ]
  },
  {
   "cell_type": "markdown",
   "id": "580abaa1",
   "metadata": {},
   "source": [
    "Sample Output:\n",
    "\n",
    "Input the radius of the circle : 1.1                                                                          \n",
    "The area of the circle with radius 1.1 is: 3.8013271108436504 "
   ]
  },
  {
   "cell_type": "markdown",
   "id": "aed8f6b3",
   "metadata": {},
   "source": [
    "#### Explanation:\n",
    "\n",
    "The said code calculates the area of a circle based on the radius entered by the user. The code uses the \"math\" module's pi constant and the \"input\" function to get the radius from the user, then it uses the formula to calculate the area of the circle.\n",
    "\n",
    "The first line from math import pi imports the pi constant from the math module, which is the mathematical constant. It represents the ratio of a circle's circumference to its diameter (approximately equal to 3.14).\n",
    "\n",
    "The second line r = float(input (\"Input the radius of the circle : \")) gets the radius of the circle from the user using the input() function. input() function assigns it to the variable r, it's then cast to float, so the user can input decimal number also.\n",
    "\n",
    "The third line print (\"The area of the circle with radius \" + str(r) + \" is: \" + str(pi * r**2)) uses the formula to calculate the area of the circle (pi*r**2) . Then it concatenates the string and the value of the radius and area using the + operator and prints the final string.\n",
    "\n",
    "This code is useful to calculate the area of a circle when the radius is known, it can be used in physics and mathematical calculations or in applications that require the area of a circle to be calculated."
   ]
  }
 ],
 "metadata": {
  "kernelspec": {
   "display_name": "Python 3 (ipykernel)",
   "language": "python",
   "name": "python3"
  },
  "language_info": {
   "codemirror_mode": {
    "name": "ipython",
    "version": 3
   },
   "file_extension": ".py",
   "mimetype": "text/x-python",
   "name": "python",
   "nbconvert_exporter": "python",
   "pygments_lexer": "ipython3",
   "version": "3.9.12"
  }
 },
 "nbformat": 4,
 "nbformat_minor": 5
}
