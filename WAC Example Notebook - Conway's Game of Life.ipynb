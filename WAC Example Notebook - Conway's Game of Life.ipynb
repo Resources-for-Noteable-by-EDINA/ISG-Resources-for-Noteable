{
 "cells": [
  {
   "cell_type": "markdown",
   "id": "a0322cfd",
   "metadata": {},
   "source": [
    "![Noteable.ac.uk Banner](https://github.com/jstix/mr-noteable/blob/master/Banner%20image/1500x500.jfif?raw=true)"
   ]
  },
  {
   "cell_type": "markdown",
   "id": "986df7e7",
   "metadata": {},
   "source": [
    "## Activity: Create the famous 'Game of Life'\n",
    "    \n",
    "    \n",
    "In this activity, we'll build a simple Game of Life. \n",
    "The Game of Life (an example of a cellular automaton) is played on an infinite two-dimensional rectangular grid of cells. Each cell can be either alive or dead. The status of each cell changes each turn of the game (also called a generation) depending on the statuses of that cell's 8 neighbors.\n",
    "\n",
    "### What have you already learned? \n",
    "\n",
    "In the first Mad Libs activity, you learned how to create a simple story by assigning variables, using the dictionary function, and coming to grips with some of the different input methods (keyboard, clicking and running code). \n",
    "\n",
    "The next stage is to focus on cementing the knowledge you gained in the first activity notebook, and give you a template to create another, more complex Mad Lib. \n",
    "\n",
    "\n",
    "In this activity, we'll explore the famous cellular automaton called Conway's Game of Life. We'll use Python and the matplotlib package to create an animation that shows the evolution of a 2D grid of cells according to the rules of the game.\n",
    "\n",
    "Step 1: Set Up the Environment\n",
    "First, we need to set up the environment for the activity. We'll use the following packages:"
   ]
  },
  {
   "cell_type": "code",
   "execution_count": null,
   "id": "0a6dcc5e",
   "metadata": {},
   "outputs": [],
   "source": [
    "import numpy as np\n",
    "import matplotlib.pyplot as plt\n",
    "import matplotlib.animation as animation\n"
   ]
  },
  {
   "cell_type": "markdown",
   "id": "47a88956",
   "metadata": {},
   "source": [
    "Step 2: Define the Game of Life Rules\n",
    "Next, we need to define the rules of the game. In Conway's Game of Life, each cell in a 2D grid can be either alive or dead, and its state in the next generation depends on the states of its eight neighbors according to the following rules:\n",
    "\n",
    "If a dead cell has exactly three live neighbors, it becomes alive in the next generation.\n",
    "If a live cell has two or three live neighbors, it stays alive in the next generation.\n",
    "Otherwise, it dies in the next generation.\n",
    "We can implement these rules as follows:\n",
    "\n"
   ]
  },
  {
   "cell_type": "code",
   "execution_count": null,
   "id": "ea478de6",
   "metadata": {},
   "outputs": [],
   "source": [
    "def evolve(grid):\n",
    "    \"\"\"\n",
    "    Given a 2D grid of 0s and 1s, applies the Game of Life rules to evolve it by one generation.\n",
    "    \"\"\"\n",
    "    # Compute the number of live neighbors for each cell\n",
    "    neighbors = np.zeros_like(grid)\n",
    "    neighbors[1:-1, 1:-1] += grid[:-2, :-2] + grid[:-2, 1:-1] + grid[:-2, 2:]\n",
    "    neighbors[1:-1, 1:-1] += grid[1:-1, :-2] + grid[1:-1, 2:]\n",
    "    neighbors[1:-1, 1:-1] += grid[2:, :-2] + grid[2:, 1:-1] + grid[2:, 2:]\n",
    "\n",
    "    # Apply the Game of Life rules to each cell\n",
    "    new_grid = np.zeros_like(grid)\n",
    "    new_grid[(grid == 1) & (neighbors == 2) | (neighbors == 3)] = 1\n",
    "    new_grid[(grid == 0) & (neighbors == 3)] = 1\n",
    "\n",
    "    return new_grid\n"
   ]
  },
  {
   "cell_type": "markdown",
   "id": "e36a32fb",
   "metadata": {},
   "source": [
    "Step 3: Set Up the Initial Grid\n",
    "\n",
    "\n",
    "Now, we need to set up the initial grid for the simulation. We can generate a random grid with a given density of live cells as follows:\n",
    "\n",
    "(later, you can come back and edit the cells). "
   ]
  },
  {
   "cell_type": "code",
   "execution_count": null,
   "id": "1d2219fc",
   "metadata": {},
   "outputs": [],
   "source": [
    "# Set up the initial grid\n",
    "density = 0.2\n",
    "grid = np.random.choice([0, 1], size=(50, 50), p=[1 - density, density])\n"
   ]
  },
  {
   "cell_type": "markdown",
   "id": "487512b2",
   "metadata": {},
   "source": [
    "Step 4: Define the Animation Function\n",
    "\n",
    "\n",
    "Next, we need to define the animation function that updates the grid and displays it on the screen. We can use the animation module from matplotlib to create an animation that updates the grid at a fixed time interval."
   ]
  },
  {
   "cell_type": "code",
   "execution_count": null,
   "id": "d48f7021",
   "metadata": {},
   "outputs": [],
   "source": [
    "# Set up the animation\n",
    "fig, ax = plt.subplots()\n",
    "img = ax.imshow(grid, cmap='binary', interpolation='nearest')\n",
    "\n",
    "def animate(frame):\n",
    "    global grid\n",
    "    grid = evolve(grid)\n",
    "    img.set_data(grid)\n",
    "    return [img]\n",
    "\n",
    "ani = animation.FuncAnimation(fig, animate, frames=100, interval=100, blit=True)\n",
    "plt.show()\n"
   ]
  },
  {
   "cell_type": "markdown",
   "id": "869ee5cd",
   "metadata": {},
   "source": [
    "Step 5: Bonus Challenge\n",
    "For a bonus challenge, you can try experimenting with different initial grids, densities, and animation parameters to see how they affect the evolution of the game. "
   ]
  },
  {
   "cell_type": "code",
   "execution_count": null,
   "id": "0422d6ce",
   "metadata": {},
   "outputs": [],
   "source": []
  }
 ],
 "metadata": {
  "kernelspec": {
   "display_name": "Python 3 (ipykernel)",
   "language": "python",
   "name": "python3"
  },
  "language_info": {
   "codemirror_mode": {
    "name": "ipython",
    "version": 3
   },
   "file_extension": ".py",
   "mimetype": "text/x-python",
   "name": "python",
   "nbconvert_exporter": "python",
   "pygments_lexer": "ipython3",
   "version": "3.9.12"
  }
 },
 "nbformat": 4,
 "nbformat_minor": 5
}
