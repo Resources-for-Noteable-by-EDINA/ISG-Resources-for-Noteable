{
 "cells": [
  {
   "cell_type": "markdown",
   "id": "d54117db",
   "metadata": {},
   "source": [
    "![Noteable.ac.uk Banner](https://github.com/jstix/mr-noteable/blob/master/Banner%20image/1500x500.jfif?raw=true)"
   ]
  },
  {
   "cell_type": "markdown",
   "id": "3eb8b15e",
   "metadata": {},
   "source": [
    "## Introductions: \n",
    "\n",
    "Starting a new language is not easy, as you Duolingo fans know. No matter the activity or task around it, there is an element of taking in new information and making sense out of it that is challenging. Below are some terms to help make sense of the Python programming language before you make use of it. \n",
    "\n",
    "\n",
    "#### Random: \n",
    "The Python Random module is a built-in module for generating random integers in Python. These are sort of fake random numbers which do not possess true randomness. We can therefore use this module to generate random numbers, display a random item for a list or string, and so on.\n",
    "\n",
    "#### Variable: \n",
    "In Python, a variable is a named container that can hold a value. It is like a storage location in the computer's memory where you can store and manipulate data.\n",
    "\n",
    "To create a variable in Python, you simply choose a name for your variable and use the = operator to assign a value to it. For example:\n",
    "\n",
    "\n"
   ]
  },
  {
   "cell_type": "code",
   "execution_count": null,
   "id": "f439b9b9",
   "metadata": {},
   "outputs": [],
   "source": [
    "# Creating a variable called \"name\" and assigning a value to it\n",
    "name = \"Marco\"\n",
    "print(name)"
   ]
  },
  {
   "cell_type": "markdown",
   "id": "2dfd7c61",
   "metadata": {},
   "source": [
    "In the example above, the variable \"name\" is assigned the string value \"John\". Now you can use the variable \"name\" to reference this value throughout your program.\n",
    "\n",
    "You can also change the value of a variable by assigning it a new value:"
   ]
  },
  {
   "cell_type": "code",
   "execution_count": null,
   "id": "d9e76af1",
   "metadata": {},
   "outputs": [],
   "source": [
    "# Changing the value of the \"name\" variable\n",
    "name = \"David\"\n",
    "print(name)"
   ]
  },
  {
   "cell_type": "markdown",
   "id": "75b7f801",
   "metadata": {},
   "source": [
    "This gives you an idea of how variables work in Python, you can assign a variable a value, such as a name, and refer to this value when you need later in your coding journey. When you run the code, the computer executes the code in order from top to bottom. "
   ]
  },
  {
   "cell_type": "markdown",
   "id": "ec42bc3a",
   "metadata": {},
   "source": [
    "## Guessing Game\n",
    "\n",
    "### Overview\n",
    "\n",
    "In this activity, you will create a simple guessing game where the user tries to guess a randomly generated number. The user will be given a limited number of attempts to guess the correct number."
   ]
  },
  {
   "cell_type": "code",
   "execution_count": null,
   "id": "5661d81f",
   "metadata": {},
   "outputs": [],
   "source": [
    "import random\n",
    "\n",
    "secret_number = random.randint(1, 20) "
   ]
  },
  {
   "cell_type": "code",
   "execution_count": null,
   "id": "68837cf4",
   "metadata": {},
   "outputs": [],
   "source": [
    "# Create another variable called guesses_left and set it to 5. This will represent the number of guesses the user has left before the game ends.\n",
    "guesses_left = 8\n"
   ]
  },
  {
   "cell_type": "code",
   "execution_count": null,
   "id": "3c5e3ff5",
   "metadata": {},
   "outputs": [],
   "source": [
    "# Use a while loop to allow the user to make multiple guesses until they either guess the correct number or run out of guesses.\n",
    "while guesses_left > 0:\n",
    "    # Get user's guess\n",
    "    guess = int(input(\"Guess a number between 1 and 20: \"))\n",
    "    \n",
    "    # Decrement guesses_left\n",
    "    guesses_left -= 1\n",
    "    \n",
    "    # Check if guess is correct\n",
    "    if guess == secret_number:\n",
    "        print(\"Congratulations! You guessed the correct number!\")\n",
    "    if guess > 20:\n",
    "        print(\"That was a bit silly, it is outside the allowed range!\")\n",
    "        guesses_left += 1\n",
    "    else:\n",
    "        print(\"Sorry, that's not the correct number.\")\n",
    "    \n",
    "    # Check if user has run out of guesses\n",
    "    if guesses_left == 0:\n",
    "        print(\"Game over. The secret number was\", secret_number)\n"
   ]
  },
  {
   "cell_type": "markdown",
   "id": "c4c8d723",
   "metadata": {},
   "source": [
    "Now that you have successfully created the game, you can start to change the range of numbers and the number of guesses allowed, have a look at the code and see if you can identify where the range between 1 and 20 has been specified. \n",
    "\n",
    "Also, explore the script and try and find the section where the response 'That was a bit silly, it is outside the allowed range' , why is this code important? What about the part that makes sure a guess is added back from the decrement so that you don't get 4 guesses instead of 5? \n",
    "\n",
    "To change the number of guesses, you can also change the 'guesses_left' variable. \n",
    "\n",
    "Try making the game really easy to solve, but also really difficult, and try your luck! "
   ]
  },
  {
   "cell_type": "markdown",
   "id": "28d4b9a8",
   "metadata": {},
   "source": [
    "###### "
   ]
  }
 ],
 "metadata": {
  "kernelspec": {
   "display_name": "Python 3 (ipykernel)",
   "language": "python",
   "name": "python3"
  },
  "language_info": {
   "codemirror_mode": {
    "name": "ipython",
    "version": 3
   },
   "file_extension": ".py",
   "mimetype": "text/x-python",
   "name": "python",
   "nbconvert_exporter": "python",
   "pygments_lexer": "ipython3",
   "version": "3.9.12"
  }
 },
 "nbformat": 4,
 "nbformat_minor": 5
}
