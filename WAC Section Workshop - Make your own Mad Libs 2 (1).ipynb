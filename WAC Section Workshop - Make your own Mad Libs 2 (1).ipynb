{
 "cells": [
  {
   "cell_type": "markdown",
   "id": "628ef432",
   "metadata": {},
   "source": [
    "![Noteable.ac.uk Banner](https://github.com/jstix/mr-noteable/blob/master/Banner%20image/1500x500.jfif?raw=true)"
   ]
  },
  {
   "cell_type": "markdown",
   "id": "381964cf",
   "metadata": {},
   "source": [
    "## Activity: Build Your Own Mad Libs Game 2: \n",
    "    \n",
    "    \n",
    "In this activity, we'll build a simple Mad Libs game where users can input their own words to create an even better University-themed story. \n",
    "\n",
    "### What have you already learned? \n",
    "\n",
    "In the first Mad Libs activity, you learned how to create a simple story by assigning variables, using the dictionary function, and coming to grips with some of the different input methods (keyboard, clicking and running code). \n",
    "\n",
    "The next stage is to focus on cementing the knowledge you gained in the first activity notebook, and give you a template to create another, more complex Mad Lib. \n",
    "\n",
    "### Introduction to terms and learning outcomes\n",
    "\n",
    "Can you remember... \n",
    "\n",
    "- How to use the curly braces as dictionary in Python? \n",
    "- How to assign variables? \n",
    "- When you had to hit enter and how to move to the next cell so you don't have to assign your Mad Lib words again? \n",
    "\n",
    "This activity will test your abilities! \n",
    "\n",
    "In this activity, we'll create a University-themed Mad Libs game where users can input their own words to create a silly story about life at the university.\n",
    "\n",
    "\n",
    "### Instructions: \n",
    "\n",
    "Step 1: Set Up the Story Template\n",
    "First, we need to create a story template with placeholders for the user's input. Here's an example:\n"
   ]
  },
  {
   "cell_type": "code",
   "execution_count": null,
   "id": "ce78dad2",
   "metadata": {},
   "outputs": [],
   "source": [
    "story_template = \"At the University, the {adjective} {noun} is always {verb} on {day} after {event}. The {noun} is usually {adverb} and {verb} in the {place}, but sometimes it {verb} to the {place2} for some {adjective2} {noun2}. {person} is always there, {verb2} {adverb2} and {adverb3} {verb3} with the {noun3}.\"\n"
   ]
  },
  {
   "cell_type": "markdown",
   "id": "0ae4cee9",
   "metadata": {},
   "source": [
    "Step 2: Ask for User Input\n",
    "\n",
    "Next, we'll ask the user to input words to fill in the placeholders in the story. We can use the input() function to prompt the user and store their input in variables:"
   ]
  },
  {
   "cell_type": "code",
   "execution_count": null,
   "id": "790028d4",
   "metadata": {},
   "outputs": [],
   "source": [
    "adjective = input(\"Enter an adjective: \")\n",
    "noun = input(\"Enter a noun: \")\n",
    "verb = input(\"Enter a verb: \")\n",
    "day = input(\"Enter a day of the week: \")\n",
    "event = input(\"Enter an event: \")\n",
    "adverb = input(\"Enter an adverb: \")\n",
    "verb2 = input(\"Enter a verb ending in 'ing': \")\n",
    "place = input(\"Enter a place: \")\n",
    "verb3 = input(\"Enter a verb ending in 'ing': \")\n",
    "noun2 = input(\"Enter a noun: \")\n",
    "adjective2 = input(\"Enter an adjective: \")\n",
    "noun3 = input(\"Enter a noun: \")\n",
    "person = input(\"Enter a person's name: \")\n",
    "adverb2 = input(\"Enter an adverb: \")\n",
    "adverb3 = input(\"Enter an adverb: \")\n",
    "place2 = input(\"Enter a place, this is the last field so after you hit Enter make sure to hit enter again to go onto the next cell! : \")\n"
   ]
  },
  {
   "cell_type": "markdown",
   "id": "5dec2be3",
   "metadata": {},
   "source": [
    "Step 3: Fill in the Story Template\n",
    "Now that we have the user's input, we can fill in the placeholders in the story template using string formatting:"
   ]
  },
  {
   "cell_type": "code",
   "execution_count": null,
   "id": "1636f06e",
   "metadata": {},
   "outputs": [],
   "source": [
    "story = story_template.format(adjective=adjective, noun=noun, verb=verb, day=day, event=event, adverb=adverb, verb2=verb2, place=place, verb3=verb3, noun2=noun2, adjective2=adjective2, noun3=noun3, person=person, adverb2=adverb2, adverb3=adverb3, place2=place2)\n"
   ]
  },
  {
   "cell_type": "markdown",
   "id": "9c9f6215",
   "metadata": {},
   "source": [
    "Step 4: Display the Story\n",
    "Finally, we can print the completed story for the user to read:"
   ]
  },
  {
   "cell_type": "code",
   "execution_count": null,
   "id": "9a30965d",
   "metadata": {},
   "outputs": [],
   "source": [
    "print(story)"
   ]
  },
  {
   "cell_type": "markdown",
   "id": "079286e7",
   "metadata": {},
   "source": [
    "Step 5: Bonus Challenge\n",
    "For a bonus challenge, you can ask the user to input more words and add more placeholders to the story template to make it longer and more detailed. You can also add some error handling to make sure the user enters valid input (e.g. only letters and not numbers).\n",
    "\n",
    "By creating a fun and interactive University-themed Mad Libs game, this Python activity provides an engaging way for the team in the website and communications section of a world leading university to practice their coding skills and have fun while doing so."
   ]
  }
 ],
 "metadata": {
  "kernelspec": {
   "display_name": "Python 3 (ipykernel)",
   "language": "python",
   "name": "python3"
  },
  "language_info": {
   "codemirror_mode": {
    "name": "ipython",
    "version": 3
   },
   "file_extension": ".py",
   "mimetype": "text/x-python",
   "name": "python",
   "nbconvert_exporter": "python",
   "pygments_lexer": "ipython3",
   "version": "3.9.12"
  }
 },
 "nbformat": 4,
 "nbformat_minor": 5
}
